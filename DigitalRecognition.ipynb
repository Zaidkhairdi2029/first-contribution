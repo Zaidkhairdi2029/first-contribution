{
  "nbformat": 4,
  "nbformat_minor": 0,
  "metadata": {
    "colab": {
      "provenance": [],
      "authorship_tag": "ABX9TyN2ZY5YwbWNYJdm0h5NguE1",
      "include_colab_link": true
    },
    "kernelspec": {
      "name": "python3",
      "display_name": "Python 3"
    },
    "language_info": {
      "name": "python"
    }
  },
  "cells": [
    {
      "cell_type": "markdown",
      "metadata": {
        "id": "view-in-github",
        "colab_type": "text"
      },
      "source": [
        "<a href=\"https://colab.research.google.com/github/Zaidkhairdi2029/first-contribution/blob/main/DigitalRecognition.ipynb\" target=\"_parent\"><img src=\"https://colab.research.google.com/assets/colab-badge.svg\" alt=\"Open In Colab\"/></a>"
      ]
    },
    {
      "cell_type": "code",
      "execution_count": null,
      "metadata": {
        "id": "SEJtjJitIzHD"
      },
      "outputs": [],
      "source": [
        "import tensorflow as tf\n",
        "from tensorflow.keras.models import load_model\n",
        "import numpy as np\n",
        "from PIL import Image\n",
        "import matplotlib.pyplot as plt\n",
        "# Import necessary libraries\n",
        "import tensorflow as tf\n",
        "from tensorflow.keras import datasets, layers, models\n",
        "\n"
      ]
    },
    {
      "cell_type": "code",
      "source": [
        "# load the MNIST dataset\n",
        "(train_image, train_labels), (test_images, test_labels) = datasets.mnist.load_data()"
      ],
      "metadata": {
        "colab": {
          "base_uri": "https://localhost:8080/"
        },
        "id": "y9c83itCKcf8",
        "outputId": "12f09bf3-925f-476f-d62d-77362c4337db"
      },
      "execution_count": null,
      "outputs": [
        {
          "output_type": "stream",
          "name": "stdout",
          "text": [
            "Downloading data from https://storage.googleapis.com/tensorflow/tf-keras-datasets/mnist.npz\n",
            "\u001b[1m11490434/11490434\u001b[0m \u001b[32m━━━━━━━━━━━━━━━━━━━━\u001b[0m\u001b[37m\u001b[0m \u001b[1m0s\u001b[0m 0us/step\n"
          ]
        }
      ]
    },
    {
      "cell_type": "code",
      "source": [
        "# preprocessing the data (normalization and reshaping)\n",
        "train_images = train_images / 255.0\n",
        "test_images = test_images / 255.0\n",
        "train_images = train_images.reshape(train_images.shape[0], 28, 28, 1)\n",
        "test_images = test_images.reshape(test_images.shape[0], 28, 28, 1)"
      ],
      "metadata": {
        "id": "q_AGuoZBMQHi"
      },
      "execution_count": null,
      "outputs": []
    },
    {
      "cell_type": "code",
      "source": [
        "\n",
        "\n",
        "# Build the CNN model\n",
        "model = models.Sequential([\n",
        "    layers.Conv2D(32, (3, 3), activation='relu', input_shape=(28, 28, 1)),\n",
        "    layers.MaxPooling2D(2, 2),\n",
        "    layers.Conv2D(64, (3, 3), activation='relu'),\n",
        "    layers.MaxPooling2D(2, 2),\n",
        "    layers.Conv2D(64, (3, 3), activation='relu'),\n",
        "    layers.Flatten(),\n",
        "    layers.Dense(64, activation='relu'),\n",
        "    layers.Dense(10, activation='softmax') # 10 classes for digits 0-9\n",
        "])\n",
        "\n",
        "\n"
      ],
      "metadata": {
        "colab": {
          "base_uri": "https://localhost:8080/"
        },
        "id": "gODKKRaBN9uN",
        "outputId": "a9d86b99-323b-428b-d027-01011de4dfac"
      },
      "execution_count": null,
      "outputs": [
        {
          "output_type": "stream",
          "name": "stderr",
          "text": [
            "/usr/local/lib/python3.10/dist-packages/keras/src/layers/convolutional/base_conv.py:107: UserWarning: Do not pass an `input_shape`/`input_dim` argument to a layer. When using Sequential models, prefer using an `Input(shape)` object as the first layer in the model instead.\n",
            "  super().__init__(activity_regularizer=activity_regularizer, **kwargs)\n"
          ]
        }
      ]
    },
    {
      "cell_type": "code",
      "source": [
        "# Compile the model\n",
        "model.compile(optimizer='adam',\n",
        "              loss='sparse_categorical_crossentropy',\n",
        "              metrics=['accuracy']) # Changed 'matrics' to 'metrics'"
      ],
      "metadata": {
        "id": "zblbwAd3WfUQ"
      },
      "execution_count": null,
      "outputs": []
    },
    {
      "cell_type": "code",
      "source": [
        "from re import VERBOSE\n",
        "# Function to train the model with specified number of epochs\n",
        "def train_model(num_epochs):\n",
        "  # Train the model\n",
        "  model.fit(train_images, train_labels, epochs=num_epochs, validation_data=(test_images, test_labels), VERBOSE=1)\n",
        "\n",
        "  # Save the model to fit\n",
        "  model.save('digit_recognition_model.h5')\n",
        "  print(f\"Model saved successfully after {num_epochs} epochs!\")"
      ],
      "metadata": {
        "id": "Zu1fRHI7W4aV"
      },
      "execution_count": null,
      "outputs": []
    },
    {
      "cell_type": "code",
      "source": [
        "# Function to train the model with specified number of epochs\n",
        "def train_model(num_epochs):\n",
        "  # Train the model\n",
        "  # Changed VERBOSE to verbose (lowercase)\n",
        "  model.fit(train_images, train_labels, epochs=num_epochs, validation_data=(test_images, test_labels), verbose=1)\n",
        "\n",
        "  # Save the model to fit\n",
        "  model.save('digit_recognition_model.h5')\n",
        "  print(f\"Model saved successfully after {num_epochs} epochs!\")"
      ],
      "metadata": {
        "id": "IY9U79XlEV3I"
      },
      "execution_count": null,
      "outputs": []
    },
    {
      "cell_type": "code",
      "source": [
        "# Funtion to preprocess uploaded and predict digit\n",
        "def process_and_predict_image(image_path):\n",
        "    #Open and convert the image to grayscale\n",
        "    img = Image.open(image_path).convert('L')\n",
        "    # Resize the image to 28x28 pixels (same size as MNIST dataset images)\n",
        "    img = img.resize((28, 28)) # Added '=' to fix assignment error\n",
        "    # Invert the image (if the background is white and digits are black)\n",
        "    img = np.invert(img) # Removed extra 'I'\n",
        "    # Convert the image to a numpy array and normalize it\n",
        "    img_array = np.array(img) / 255.0\n",
        "    # Reshape the array to fit the model input (28, 28, 1)\n",
        "    img_array = img_array.reshape(1, 28, 28, 1) # Added '=' to fix assignment error\n",
        "    # Predict the digit\n",
        "    prediction = model.predict(img_array) # Added '=' to fix assignment error\n",
        "    predicted_digit = np.argmax(prediction)\n",
        "    # Display the image and prediction\n",
        "    plt.imshow(img_array.reshape(28, 28), cmap=plt.cm.binary)\n",
        "    plt.title(f'prediction Digit: {predicted_digit}')\n",
        "    plt.show()\n",
        "\n",
        "    return predicted_digit"
      ],
      "metadata": {
        "id": "ByY2m4Q_IT33"
      },
      "execution_count": null,
      "outputs": []
    },
    {
      "cell_type": "code",
      "source": [
        "# Example usage\n",
        "# Replace 'your_image_path.png' with the path to the uploaded image\n",
        "\n",
        "# Assuming your image is in your Google Drive, you need to mount Google Drive first.\n",
        "# Run the following code in a separate cell:\n",
        "# from google.colab import drive\n",
        "# drive.mount('/content/drive')\n",
        "# Then, change the uploaded_image_path to match the location in your Google Drive, for example:\n",
        "# uploaded_image_path = '/content/drive/MyDrive/MNIST_digit.png'\n",
        "\n",
        "# If you have uploaded the image directly to Colab, then your path is more likely:\n",
        "uploaded_image_path = '/content/MNIST_digit.png' # The image should be in the main Colab directory\n",
        "\n",
        "\n",
        "predicted_digit = process_and_predict_image(uploaded_image_path)\n",
        "print(f'The model predicts the digit is: {predicted_digit}')"
      ],
      "metadata": {
        "colab": {
          "base_uri": "https://localhost:8080/",
          "height": 487
        },
        "id": "8c5aoSpSQJUz",
        "outputId": "9652d63b-df0d-4cb3-88fa-a919b9a9f13d"
      },
      "execution_count": null,
      "outputs": [
        {
          "output_type": "stream",
          "name": "stdout",
          "text": [
            "\u001b[1m1/1\u001b[0m \u001b[32m━━━━━━━━━━━━━━━━━━━━\u001b[0m\u001b[37m\u001b[0m \u001b[1m0s\u001b[0m 229ms/step\n"
          ]
        },
        {
          "output_type": "display_data",
          "data": {
            "text/plain": [
              "<Figure size 640x480 with 1 Axes>"
            ],
            "image/png": "[encoded data removed]"
          },
          "metadata": {}
        },
        {
          "output_type": "stream",
          "name": "stdout",
          "text": [
            "The model predicts the digit is: 4\n"
          ]
        }
      ]
    }
  ]
}